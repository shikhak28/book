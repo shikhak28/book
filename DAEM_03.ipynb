{
  "cells": [
    {
      "cell_type": "markdown",
      "metadata": {
        "id": "view-in-github",
        "colab_type": "text"
      },
      "source": [
        "<a href=\"https://colab.research.google.com/github/shikhak28/book/blob/main/DAEM_03.ipynb\" target=\"_parent\"><img src=\"https://colab.research.google.com/assets/colab-badge.svg\" alt=\"Open In Colab\"/></a>"
      ]
    },
    {
      "cell_type": "markdown",
      "metadata": {
        "id": "GToIZEsxEqpS"
      },
      "source": [
        "![seoultech logo small.png](data:image/png;base64,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)"
      ]
    },
    {
      "cell_type": "markdown",
      "metadata": {
        "id": "Ezhlc9pxD0YK"
      },
      "source": [
        "# Lab Session \\# 03\n",
        "---\n",
        "\n",
        "by Prof. Josué Obregón <br>\n",
        "Data Analysis for Electronic Manufacturing <br>\n",
        "Department of Data Science - SeoulTech<br>\n",
        "\n",
        "## Objective\n",
        "\n",
        "The objectives of this lab session are as follows:\n",
        "\n",
        "1.  Introduce Pandas capabilities of handling time series data. Time series data are captured very often in electronic manufacturing by sensors installed in machines and production lines to monitor the operation, state of health, machine parameters and other conditions during manufacturing processes.\n",
        "\n"
      ]
    },
    {
      "cell_type": "markdown",
      "metadata": {
        "id": "gy6UcZHXfUV1"
      },
      "source": [
        "# Working with Time Series"
      ]
    },
    {
      "cell_type": "markdown",
      "metadata": {
        "id": "Xc9-lcz3fUV1"
      },
      "source": [
        "Pandas was originally developed in the context of financial modeling, so as you might expect, it contains an extensive set of tools for working with dates, times, and time-indexed data.\n",
        "Date and time data comes in a few flavors, which we will discuss here:\n",
        "\n",
        "- *Timestamps* reference particular moments in time (e.g., July 4th, 2021 at 7:00 a.m.).\n",
        "- *Time intervals* and *periods* reference a length of time between a particular beginning and end point; for example, the month of June 2021. Periods usually reference a special case of time intervals in which each interval is of uniform length and does not overlap (e.g., 24-hour-long periods comprising days).\n",
        "- *Time deltas* or *durations* reference an exact length of time (e.g., a duration of 22.56 seconds).\n",
        "\n",
        "This lab session will introduce how to work with each of these types of date/time data in Pandas.\n",
        "This is by no means a complete guide to the time series tools available in Python or Pandas, but instead is intended as a broad overview of how you as a user should approach working with time series.\n",
        "We will start with a brief discussion of tools for dealing with dates and times in Python, before moving more specifically to a discussion of the tools provided by Pandas.\n",
        "After listing some resources that go into more depth, we will review some short examples of working with time series data in Pandas."
      ]
    },
    {
      "cell_type": "markdown",
      "metadata": {
        "id": "jI56C8vFfUV2"
      },
      "source": [
        "## Dates and Times in Python\n",
        "\n",
        "The Python world has a number of available representations of dates, times, deltas, and time spans.\n",
        "While the time series tools provided by Pandas tend to be the most useful for data science applications, it is helpful to see their relationship to other tools used in Python."
      ]
    },
    {
      "cell_type": "markdown",
      "metadata": {
        "id": "qQw_RBUufUV2"
      },
      "source": [
        "### Native Python Dates and Times: datetime and dateutil\n",
        "\n",
        "Python's basic objects for working with dates and times reside in the built-in `datetime` module.\n",
        "Along with the third-party `dateutil` module, you can use this to quickly perform a host of useful functionalities on dates and times.\n",
        "For example, you can manually build a date using the `datetime` type:"
      ]
    },
    {
      "cell_type": "code",
      "execution_count": null,
      "metadata": {
        "id": "pGcJN2PPfUV2",
        "jupyter": {
          "outputs_hidden": false
        }
      },
      "outputs": [],
      "source": [
        "from datetime import datetime\n",
        "date"
      ]
    },
    {
      "cell_type": "markdown",
      "metadata": {
        "id": "ee0-TBbefUV3"
      },
      "source": [
        "Or, using the `dateutil` module, you can parse dates from a variety of string formats:"
      ]
    },
    {
      "cell_type": "code",
      "execution_count": null,
      "metadata": {
        "id": "2rtMtG5XfUV3",
        "jupyter": {
          "outputs_hidden": false
        }
      },
      "outputs": [],
      "source": []
    },
    {
      "cell_type": "code",
      "execution_count": null,
      "metadata": {
        "id": "PG9Z3sgmzD6Z"
      },
      "outputs": [],
      "source": []
    },
    {
      "cell_type": "markdown",
      "metadata": {
        "id": "klCv8oNafUV3"
      },
      "source": [
        "Once you have a `datetime` object, you can do things like printing the day of the week:"
      ]
    },
    {
      "cell_type": "code",
      "execution_count": null,
      "metadata": {
        "id": "lNpR0b6hfUV3",
        "jupyter": {
          "outputs_hidden": false
        }
      },
      "outputs": [],
      "source": []
    },
    {
      "cell_type": "markdown",
      "metadata": {
        "id": "NDp2CGDMfUV3"
      },
      "source": [
        "Here we've used one of the standard string format codes for printing dates (`'%A'`), which you can read about in the [`strftime` section](https://docs.python.org/3/library/datetime.html#strftime-and-strptime-behavior) of Python's [`datetime` documentation](https://docs.python.org/3/library/datetime.html).\n",
        "Documentation of other useful date utilities can be found in [``dateutil``'s online documentation](http://labix.org/python-dateutil).\n",
        "A related package to be aware of is [`pytz`](http://pytz.sourceforge.net/), which contains tools for working with the most migraine-inducing element of time series data: time zones.\n",
        "\n",
        "The power of `datetime` and `dateutil` lies in their flexibility and easy syntax: you can use these objects and their built-in methods to easily perform nearly any operation you might be interested in.\n",
        "Where they break down is when you wish to work with large arrays of dates and times:\n",
        "just as lists of Python numerical variables are suboptimal compared to NumPy-style typed numerical arrays, lists of Python `datetime` objects are suboptimal compared to typed arrays of encoded dates."
      ]
    },
    {
      "cell_type": "markdown",
      "metadata": {
        "id": "JRd-Q66WfUV3"
      },
      "source": [
        "### Typed Arrays of Times: NumPy's datetime64\n",
        "\n",
        "NumPy's `datetime64` dtype encodes dates as 64-bit integers, and thus allows arrays of dates to be represented compactly and operated on in an efficient manner.\n",
        "The `datetime64` requires a specific input format:"
      ]
    },
    {
      "cell_type": "code",
      "execution_count": null,
      "metadata": {
        "id": "nB92WI8kfUV4",
        "jupyter": {
          "outputs_hidden": false
        }
      },
      "outputs": [],
      "source": []
    },
    {
      "cell_type": "markdown",
      "metadata": {
        "id": "qv0kqfZmfUV4"
      },
      "source": [
        "Once we have dates in this form, we can quickly do vectorized operations on it:"
      ]
    },
    {
      "cell_type": "code",
      "execution_count": null,
      "metadata": {
        "id": "5SuvQVv3fUV4",
        "jupyter": {
          "outputs_hidden": false
        }
      },
      "outputs": [],
      "source": []
    },
    {
      "cell_type": "markdown",
      "metadata": {
        "id": "anupiFlXfUV4"
      },
      "source": [
        "Because of the uniform type in NumPy `datetime64` arrays, this kind of operation can be accomplished much more quickly than if we were working directly with Python's `datetime` objects, especially as arrays get large.\n",
        "\n",
        "One detail of the `datetime64` and related `timedelta64` objects is that they are built on a *fundamental time unit*.\n",
        "Because the `datetime64` object is limited to 64-bit precision, the range of encodable times is $2^{64}$ times this fundamental unit.\n",
        "In other words, `datetime64` imposes a trade-off between *time resolution* and *maximum time span*.\n",
        "\n",
        "For example, if you want a time resolution of 1 nanosecond, you only have enough information to encode a range of $2^{64}$ nanoseconds, or just under 600 years.\n",
        "NumPy will infer the desired unit from the input; for example, here is a day-based `datetime`:"
      ]
    },
    {
      "cell_type": "code",
      "execution_count": null,
      "metadata": {
        "id": "LgdGEqAdfUV4",
        "jupyter": {
          "outputs_hidden": false
        }
      },
      "outputs": [],
      "source": []
    },
    {
      "cell_type": "code",
      "execution_count": null,
      "metadata": {
        "id": "7X-mKmzHz-Z7"
      },
      "outputs": [],
      "source": []
    },
    {
      "cell_type": "markdown",
      "metadata": {
        "id": "_hh63-GYfUV4"
      },
      "source": [
        "Here is a minute-based datetime:"
      ]
    },
    {
      "cell_type": "code",
      "execution_count": null,
      "metadata": {
        "id": "UrQFk5rOfUV4",
        "jupyter": {
          "outputs_hidden": false
        }
      },
      "outputs": [],
      "source": [
        "# '2021-07-04 12:00'"
      ]
    },
    {
      "cell_type": "code",
      "execution_count": null,
      "metadata": {
        "id": "hxyu_GjV0CPp"
      },
      "outputs": [],
      "source": []
    },
    {
      "cell_type": "markdown",
      "metadata": {
        "id": "wSQwA-rhfUV4"
      },
      "source": [
        "You can force any desired fundamental unit using one of many format codes; for example, here we'll force a nanosecond-based time:"
      ]
    },
    {
      "cell_type": "code",
      "execution_count": null,
      "metadata": {
        "id": "Xxr8VuKnfUV4",
        "jupyter": {
          "outputs_hidden": false
        }
      },
      "outputs": [],
      "source": [
        "# '2021-07-04 12:59:59.50'"
      ]
    },
    {
      "cell_type": "code",
      "execution_count": null,
      "metadata": {
        "id": "ZTONGqfA0e_3"
      },
      "outputs": [],
      "source": []
    },
    {
      "cell_type": "markdown",
      "metadata": {
        "id": "dAHWkN5mfUV4"
      },
      "source": [
        "The following table, drawn from the NumPy `datetime64` documentation, lists the available format codes along with the relative and absolute time spans that they can encode:"
      ]
    },
    {
      "cell_type": "markdown",
      "metadata": {
        "id": "xn-k2LnHfUV4"
      },
      "source": [
        "|Code  | Meaning     | Time span (relative) | Time span (absolute)   |\n",
        "|------|-------------|----------------------|------------------------|\n",
        "| `Y`  | Year        | ± 9.2e18 years       | [9.2e18 BC, 9.2e18 AD] |\n",
        "| `M`  | Month       | ± 7.6e17 years       | [7.6e17 BC, 7.6e17 AD] |\n",
        "| `W`  | Week        | ± 1.7e17 years       | [1.7e17 BC, 1.7e17 AD] |\n",
        "| `D`  | Day         | ± 2.5e16 years       | [2.5e16 BC, 2.5e16 AD] |\n",
        "| `h`  | Hour        | ± 1.0e15 years       | [1.0e15 BC, 1.0e15 AD] |\n",
        "| `m`  | Minute      | ± 1.7e13 years       | [1.7e13 BC, 1.7e13 AD] |\n",
        "| `s`  | Second      | ± 2.9e12 years       | [ 2.9e9 BC, 2.9e9 AD]  |\n",
        "| `ms` | Millisecond | ± 2.9e9 years        | [ 2.9e6 BC, 2.9e6 AD]  |\n",
        "| `us` | Microsecond | ± 2.9e6 years        | [290301 BC, 294241 AD] |\n",
        "| `ns` | Nanosecond  | ± 292 years          | [ 1678 AD, 2262 AD]    |\n",
        "| `ps` | Picosecond  | ± 106 days           | [ 1969 AD, 1970 AD]    |\n",
        "| `fs` | Femtosecond | ± 2.6 hours          | [ 1969 AD, 1970 AD]    |\n",
        "| `as` | Attosecond  | ± 9.2 seconds        | [ 1969 AD, 1970 AD]    |"
      ]
    },
    {
      "cell_type": "markdown",
      "metadata": {
        "id": "MwbC2gfifUV4"
      },
      "source": [
        "For the types of data we see in the real world, a useful default is `datetime64[ns]`, as it can encode a useful range of modern dates with a suitably fine precision.\n",
        "\n",
        "Finally, note that while the `datetime64` data type addresses some of the deficiencies of the built-in Python `datetime` type, it lacks many of the convenient methods and functions provided by `datetime` and especially `dateutil`.\n",
        "More information can be found in [NumPy's `datetime64` documentation](http://docs.scipy.org/doc/numpy/reference/arrays.datetime.html)."
      ]
    },
    {
      "cell_type": "markdown",
      "metadata": {
        "id": "Aih8K7Z0fUV4"
      },
      "source": [
        "### Dates and Times in Pandas: The Best of Both Worlds\n",
        "\n",
        "Pandas builds upon all the tools just discussed to provide a `Timestamp` object, which combines the ease of use of `datetime` and `dateutil` with the efficient storage and vectorized interface of `numpy.datetime64`.\n",
        "From a group of these `Timestamp` objects, Pandas can construct a `DatetimeIndex` that can be used to index data in a `Series` or `DataFrame`.\n",
        "\n",
        "For example, we can use Pandas tools to repeat the demonstration from earlier.\n",
        "We can parse a flexibly formatted string date and use format codes to output the day of the week, as follows:"
      ]
    },
    {
      "cell_type": "code",
      "execution_count": null,
      "metadata": {
        "id": "bYt6dka-fUV4",
        "jupyter": {
          "outputs_hidden": false
        }
      },
      "outputs": [],
      "source": []
    },
    {
      "cell_type": "code",
      "execution_count": null,
      "metadata": {
        "id": "q0wsAXzcfUV5",
        "jupyter": {
          "outputs_hidden": false
        }
      },
      "outputs": [],
      "source": []
    },
    {
      "cell_type": "markdown",
      "metadata": {
        "id": "jNMUNdIrfUV5"
      },
      "source": [
        "Additionally, we can do NumPy-style vectorized operations directly on this same object:"
      ]
    },
    {
      "cell_type": "code",
      "execution_count": null,
      "metadata": {
        "id": "-ukvpzjpfUV5",
        "jupyter": {
          "outputs_hidden": false
        }
      },
      "outputs": [],
      "source": []
    },
    {
      "cell_type": "markdown",
      "metadata": {
        "id": "kbSSzMhPfUV5"
      },
      "source": [
        "In the next section, we will take a closer look at manipulating time series data with the tools provided by Pandas."
      ]
    },
    {
      "cell_type": "markdown",
      "metadata": {
        "id": "Z5rzDGLjfUV5"
      },
      "source": [
        "## Pandas Time Series: Indexing by Time\n",
        "\n",
        "The Pandas time series tools really become useful when you begin to index data by timestamps.\n",
        "For example, we can construct a `Series` object that has time-indexed data:"
      ]
    },
    {
      "cell_type": "code",
      "execution_count": null,
      "metadata": {
        "id": "pkeOFJBLfUV5",
        "jupyter": {
          "outputs_hidden": false
        }
      },
      "outputs": [],
      "source": [
        "index = pd.DatetimeIndex(['2020-07-04', '2020-08-04',\n",
        "                          '2021-07-04', '2021-08-04'])\n",
        "\n"
      ]
    },
    {
      "cell_type": "markdown",
      "metadata": {
        "id": "zXAwjGAofUV5"
      },
      "source": [
        "And now that we have this data in a `Series`, we can make use of any of the `Series` indexing patterns we discussed in previous chapters, passing values that can be coerced into dates:"
      ]
    },
    {
      "cell_type": "code",
      "execution_count": null,
      "metadata": {
        "id": "nnvkV1VpfUV5",
        "jupyter": {
          "outputs_hidden": false
        }
      },
      "outputs": [],
      "source": []
    },
    {
      "cell_type": "markdown",
      "metadata": {
        "id": "qdrGqqsEfUV5"
      },
      "source": [
        "There are additional special date-only indexing operations, such as passing a year to obtain a slice of all data from that year:"
      ]
    },
    {
      "cell_type": "code",
      "execution_count": null,
      "metadata": {
        "id": "oP5DdNX7fUV5",
        "jupyter": {
          "outputs_hidden": false
        }
      },
      "outputs": [],
      "source": []
    },
    {
      "cell_type": "markdown",
      "metadata": {
        "id": "t5jBFFyZfUV6"
      },
      "source": [
        "Later, we will see additional examples of the convenience of dates-as-indices.\n",
        "But first, let's take a closer look at the available time series data structures."
      ]
    },
    {
      "cell_type": "markdown",
      "metadata": {
        "id": "79CV2-7SfUV6"
      },
      "source": [
        "## Pandas Time Series Data Structures\n",
        "\n",
        "This section will introduce the fundamental Pandas data structures for working with time series data:\n",
        "\n",
        "- For *timestamps*, Pandas provides the `Timestamp` type. As mentioned before, this is essentially a replacement for Python's native `datetime`, but it's based on the more efficient `numpy.datetime64` data type. The associated `Index` structure is `DatetimeIndex`.\n",
        "- For *time periods*, Pandas provides the `Period` type. This encodes a fixed-frequency interval based on `numpy.datetime64`. The associated index structure is `PeriodIndex`.\n",
        "- For *time deltas* or *durations*, Pandas provides the `Timedelta` type. `Timedelta` is a more efficient replacement for Python's native `datetime.timedelta` type, and is based on `numpy.timedelta64`. The associated index structure is `TimedeltaIndex`."
      ]
    },
    {
      "cell_type": "markdown",
      "metadata": {
        "id": "5twNxGNdfUV6"
      },
      "source": [
        "The most fundamental of these date/time objects are the `Timestamp` and `DatetimeIndex` objects.\n",
        "While these class objects can be invoked directly, it is more common to use the `pd.to_datetime` function, which can parse a wide variety of formats.\n",
        "Passing a single date to `pd.to_datetime` yields a `Timestamp`; passing a series of dates by default yields a `DatetimeIndex`. Let's try:"
      ]
    },
    {
      "cell_type": "code",
      "execution_count": null,
      "metadata": {
        "id": "BxVVz91ifUV6",
        "jupyter": {
          "outputs_hidden": false
        }
      },
      "outputs": [],
      "source": [
        "dates = pd.to_datetime([datetime(2021, 7, 3), '4th of July, 2021',\n",
        "                       '2021-Jul-6', '07-07-2021', '20210708'])\n",
        "dates"
      ]
    },
    {
      "cell_type": "markdown",
      "metadata": {
        "id": "rOAS-xLJfUV6"
      },
      "source": [
        "Any `DatetimeIndex` can be converted to a `PeriodIndex` with the `to_period` function, with the addition of a frequency code; here we'll use `'D'` to indicate daily frequency:"
      ]
    },
    {
      "cell_type": "code",
      "execution_count": null,
      "metadata": {
        "id": "yyO4OZwVfUV6",
        "jupyter": {
          "outputs_hidden": false
        }
      },
      "outputs": [],
      "source": []
    },
    {
      "cell_type": "markdown",
      "metadata": {
        "id": "Qu_AXY0LfUV6"
      },
      "source": [
        "A `TimedeltaIndex` is created, for example, when a date is subtracted from another:"
      ]
    },
    {
      "cell_type": "code",
      "execution_count": null,
      "metadata": {
        "id": "CQxTFZbyfUV6",
        "jupyter": {
          "outputs_hidden": false
        }
      },
      "outputs": [],
      "source": []
    },
    {
      "cell_type": "markdown",
      "metadata": {
        "id": "1WMAnzUwfUV6"
      },
      "source": [
        "## Regular Sequences: pd.date_range\n",
        "\n",
        "To make the creation of regular date sequences more convenient, Pandas offers a few functions for this purpose: `pd.date_range` for timestamps, `pd.period_range` for periods, and `pd.timedelta_range` for time deltas.\n",
        "We've seen that Python's `range` and NumPy's `np.arange` take a start point, end point, and optional step size and return a sequence.\n",
        "Similarly, `pd.date_range` accepts a start date, an end date, and an optional frequency code to create a regular sequence of dates:"
      ]
    },
    {
      "cell_type": "code",
      "execution_count": null,
      "metadata": {
        "id": "JV2AnW5GfUV6",
        "jupyter": {
          "outputs_hidden": false
        }
      },
      "outputs": [],
      "source": []
    },
    {
      "cell_type": "markdown",
      "metadata": {
        "id": "-SzgJPLCfUV6"
      },
      "source": [
        "Alternatively, the date range can be specified not with a start and end point, but with a start point and a number of periods:"
      ]
    },
    {
      "cell_type": "code",
      "execution_count": null,
      "metadata": {
        "id": "hbmf9sOJfUV7",
        "jupyter": {
          "outputs_hidden": false
        }
      },
      "outputs": [],
      "source": []
    },
    {
      "cell_type": "markdown",
      "metadata": {
        "id": "NdGSL8L1fUV7"
      },
      "source": [
        "The spacing can be modified by altering the `freq` argument, which defaults to `D`.\n",
        "For example, here we construct a range of hourly timestamps:"
      ]
    },
    {
      "cell_type": "code",
      "execution_count": null,
      "metadata": {
        "id": "rnGcsCscfUV7",
        "jupyter": {
          "outputs_hidden": false
        }
      },
      "outputs": [],
      "source": []
    },
    {
      "cell_type": "markdown",
      "metadata": {
        "id": "sV_kZe25fUV7"
      },
      "source": [
        "To create regular sequences of `Period` or `Timedelta` values, the similar `pd.period_range` and `pd.timedelta_range` functions are useful.\n",
        "Here are some monthly periods:"
      ]
    },
    {
      "cell_type": "code",
      "execution_count": null,
      "metadata": {
        "id": "vJdxWHWOfUV7",
        "jupyter": {
          "outputs_hidden": false
        }
      },
      "outputs": [],
      "source": []
    },
    {
      "cell_type": "markdown",
      "metadata": {
        "id": "Q_ZnbihIfUV7"
      },
      "source": [
        "And a sequence of durations increasing by an hour:"
      ]
    },
    {
      "cell_type": "code",
      "execution_count": null,
      "metadata": {
        "id": "32Bs3wgDfUV7",
        "jupyter": {
          "outputs_hidden": false
        }
      },
      "outputs": [],
      "source": []
    },
    {
      "cell_type": "markdown",
      "metadata": {
        "id": "7N13DxaCfUV7"
      },
      "source": [
        "All of these require an understanding of Pandas frequency codes, which are summarized in the next section."
      ]
    },
    {
      "cell_type": "markdown",
      "metadata": {
        "id": "H5HzCz2YfUV7"
      },
      "source": [
        "## Frequencies and Offsets\n",
        "\n",
        "Fundamental to these Pandas time series tools is the concept of a *frequency* or *date offset*. The following table summarizes the main codes available; as with the `D` (day) and `H` (hour) codes demonstrated in the previous sections, we can use these to specify any desired frequency spacing:"
      ]
    },
    {
      "cell_type": "markdown",
      "metadata": {
        "id": "qz7GrittfUV7"
      },
      "source": [
        "| Code | Description       | Code | Description          |\n",
        "|------|-------------------|------|----------------------|\n",
        "| `D`  | Calendar day      | `B`  | Business day         |\n",
        "| `W`  | Weekly            |      |                      |\n",
        "| `M`  | Month end         | `BM` | Business month end   |\n",
        "| `Q`  | Quarter end       | `BQ` | Business quarter end |\n",
        "| `YE`  | Year end          | `BYE` | Business year end    |\n",
        "| `h`  | Hours             | `BH` | Business hours       |\n",
        "| `min`  | Minutes           |      |                      |\n",
        "| `s`  | Seconds           |      |                      |\n",
        "| `ms`  | Milliseconds       |      |                      |\n",
        "| `us`  | Microseconds      |      |                      |\n",
        "| `ns`  | Nanoseconds       |      |                      |"
      ]
    },
    {
      "cell_type": "markdown",
      "metadata": {
        "id": "oF5aZGyffUV7"
      },
      "source": [
        "The monthly, quarterly, and annual frequencies are all marked at the end of the specified period.\n",
        "Adding an `S` suffix to any of these causes them to instead be marked at the beginning:"
      ]
    },
    {
      "cell_type": "markdown",
      "metadata": {
        "id": "_GGEZ9-afUV7"
      },
      "source": [
        "| Code  | Description       | Code  | Description            |\n",
        "|-------|-------------------|-------|------------------------|\n",
        "| `MS`  | Month start       |`BMS`  | Business month start   |\n",
        "| `QS`  | Quarter start     |`BQS`  | Business quarter start |\n",
        "| `AS`  | Year start        |`BAS`  | Business year start    |"
      ]
    },
    {
      "cell_type": "markdown",
      "metadata": {
        "id": "pNSJTsztfUV8"
      },
      "source": [
        "For more discussion of the use of frequencies and offsets, see the [`DateOffset` section](https://pandas.pydata.org/pandas-docs/stable/user_guide/timeseries.html#dateoffset-objects) of the Pandas documentation."
      ]
    },
    {
      "cell_type": "markdown",
      "metadata": {
        "id": "PAhAt16hfUV8"
      },
      "source": [
        "## Resampling, Shifting, and Windowing\n",
        "\n",
        "The ability to use dates and times as indices to intuitively organize and access data is an important aspect of the Pandas time series tools.\n",
        "The benefits of indexed data in general (automatic alignment during operations, intuitive data slicing and access, etc.) still apply, and Pandas provides several additional time series–specific operations.\n",
        "\n",
        "We will take a look at a few of those here, using some stock price data as an example.\n",
        "Because Pandas was developed largely in a finance context, it includes some very specific tools for financial data.\n",
        "For example, the accompanying `pandas-datareader` package (installable via `pip install pandas-datareader`) knows how to import data from various online sources.\n",
        "Here we will load part of the S&P 500 price history:"
      ]
    },
    {
      "cell_type": "code",
      "execution_count": null,
      "metadata": {
        "id": "ny0__nDW49cq"
      },
      "outputs": [],
      "source": [
        "data.DataReader()"
      ]
    },
    {
      "cell_type": "code",
      "execution_count": null,
      "metadata": {
        "id": "sGRUIQIs5P37"
      },
      "outputs": [],
      "source": [
        "import yfinance as yf\n",
        "\n",
        "sp500 = yf.download('^GSPC', start='2018-01-01', end='2025-01-01')\n"
      ]
    },
    {
      "cell_type": "code",
      "execution_count": null,
      "metadata": {
        "id": "vFw3GbydfUV8",
        "jupyter": {
          "outputs_hidden": false
        }
      },
      "outputs": [],
      "source": []
    },
    {
      "cell_type": "markdown",
      "metadata": {
        "id": "pD-ARNpEfUV8"
      },
      "source": [
        "For simplicity, we'll use just the closing price:"
      ]
    },
    {
      "cell_type": "code",
      "execution_count": null,
      "metadata": {
        "id": "g0S267o8fUV8",
        "tags": []
      },
      "outputs": [],
      "source": []
    },
    {
      "cell_type": "markdown",
      "metadata": {
        "id": "zQVTuQbRfUV8"
      },
      "source": [
        "We can visualize this using the ``plot`` method; the result is shown in the following figure:"
      ]
    },
    {
      "cell_type": "code",
      "execution_count": null,
      "metadata": {
        "id": "HhXVqxPQ7DNE"
      },
      "outputs": [],
      "source": [
        "import seaborn as sns\n",
        "sns.set_style('darkgrid') #others darkgrid, whitegrid, dark, white, and ticks"
      ]
    },
    {
      "cell_type": "code",
      "execution_count": null,
      "metadata": {
        "id": "RKIOKvGHfUV8",
        "jupyter": {
          "outputs_hidden": false
        }
      },
      "outputs": [],
      "source": []
    },
    {
      "cell_type": "markdown",
      "metadata": {
        "id": "RVlviTLNfUV8"
      },
      "source": [
        "### Resampling and Converting Frequencies\n",
        "\n",
        "One common need when dealing with time series data is resampling at a higher or lower frequency.\n",
        "This can be done using the `resample` method, or the much simpler `asfreq` method.\n",
        "The primary difference between the two is that `resample` is fundamentally a *data aggregation*, while `asfreq` is fundamentally a *data selection*.\n",
        "\n",
        "Let's compare what the two return when we downsample the S&P 500 closing price data.\n",
        "Here we will resample the data at the end of business year; the following figure shows the result:"
      ]
    },
    {
      "cell_type": "code",
      "execution_count": null,
      "metadata": {
        "id": "H5Dymi9JfUV8",
        "jupyter": {
          "outputs_hidden": false
        }
      },
      "outputs": [],
      "source": [
        "ax= sp500c.plot(alpha=0.5, style='-')\n"
      ]
    },
    {
      "cell_type": "markdown",
      "metadata": {
        "id": "_rjC9ZfJZtSf"
      },
      "source": [
        "In pandas, both resample and asfreq are used for working with time series data, but they serve different purposes:\n",
        "\n",
        "resample: Aggregates or down/up-samples data to a new time frequency, allowing you to apply functions like mean, sum, etc., to the grouped time intervals. For example, converting daily data to monthly averages.\n",
        "\n",
        "asfreq: Changes the frequency of the time series without aggregation, essentially reindexing the data. It can fill missing periods with NaN or a specified fill method but does not perform any aggregation.\n",
        "\n",
        "In short, resample involves aggregation, while asfreq involves frequency conversion without aggregation."
      ]
    },
    {
      "cell_type": "markdown",
      "metadata": {
        "id": "cxO7voekfUV8"
      },
      "source": [
        "Notice the difference: at each point, `resample` reports the *average of the previous year*, while `asfreq` reports the *value at the end of the year*."
      ]
    },
    {
      "cell_type": "markdown",
      "metadata": {
        "id": "bnBzVW1VfUV8"
      },
      "source": [
        "For upsampling, `resample` and `asfreq` are largely equivalent, though `resample` has many more options available.\n",
        "In this case, the default for both methods is to leave the upsampled points empty; that is, filled with NA values.\n",
        "Like the `pd.fillna` function discussed when we learned how to handle missing data, `asfreq` accepts a `method` argument to specify how values are imputed.\n",
        "Here, we will resample the business day data at a daily frequency (i.e., including weekends); the following figure shows the result:"
      ]
    },
    {
      "cell_type": "code",
      "execution_count": null,
      "metadata": {
        "id": "tJJWNTzhfUV8",
        "jupyter": {
          "outputs_hidden": false
        }
      },
      "outputs": [],
      "source": [
        "fig, ax = plt.subplots(2, sharex=True)\n",
        "data = sp500c.iloc[:20]\n",
        "\n",
        "data.asfreq('D').plot(ax=ax[0], marker='o')\n",
        "\n",
        "data.asfreq('D', method='bfill').plot(ax=ax[1], style='-o')\n",
        "data.asfreq('D', method='ffill').plot(ax=ax[1], style='--o')\n",
        "ax[1].legend([\"back-fill\", \"forward-fill\"]);"
      ]
    },
    {
      "cell_type": "markdown",
      "metadata": {
        "id": "fGAJSfMWfUV8"
      },
      "source": [
        "Because the S&P 500 data only exists for business days, the top panel has gaps representing NA values.\n",
        "The bottom panel shows the differences between two strategies for filling the gaps: forward filling and backward filling."
      ]
    },
    {
      "cell_type": "markdown",
      "metadata": {
        "id": "rgKCGhe4fUV9"
      },
      "source": [
        "### Time Shifts\n",
        "\n",
        "Another common time series–specific operation is shifting of data in time.\n",
        "For this, Pandas provides the `shift` method, which can be used to shift data by a given number of entries.\n",
        "With time series data sampled at a regular frequency, this can give us a way to explore trends over time.\n",
        "\n",
        "For example, here we resample the data to daily values, and shift by 364 to compute the 1-year return on investment for the S&P 500 over time (see the following figure):"
      ]
    },
    {
      "cell_type": "code",
      "execution_count": null,
      "metadata": {
        "id": "0mtmc9_6fUV9"
      },
      "outputs": [],
      "source": []
    },
    {
      "cell_type": "code",
      "execution_count": null,
      "metadata": {
        "id": "8zmbdLMqZtSf"
      },
      "outputs": [],
      "source": []
    },
    {
      "cell_type": "code",
      "execution_count": null,
      "metadata": {
        "id": "igmyXo3lZtSg"
      },
      "outputs": [],
      "source": []
    },
    {
      "cell_type": "markdown",
      "metadata": {
        "id": "VoFsXI6ZfUV9"
      },
      "source": [
        "The worst one-year return was around March 2019, with the coronavirus-related market crash exactly a year later. As you might expect, the best one-year return was to be found in March 2020, for those with enough foresight or luck to buy low."
      ]
    },
    {
      "cell_type": "markdown",
      "metadata": {
        "id": "53WeUik8fUV9"
      },
      "source": [
        "### Rolling Windows\n",
        "\n",
        "Calculating rolling statistics is a third type of time series–specific operation implemented by Pandas.\n",
        "This can be accomplished via the `rolling` attribute of `Series` and `DataFrame` objects, which returns a view similar to what we saw with the `groupby` operation.\n",
        "This rolling view makes available a number of aggregation operations by default.\n"
      ]
    },
    {
      "cell_type": "markdown",
      "metadata": {
        "id": "cvmmG1CpfUV9"
      },
      "source": [
        "\n",
        "For example, we can look at the one-year centered rolling mean and standard deviation of the  stock prices (see the following figure):"
      ]
    },
    {
      "cell_type": "code",
      "execution_count": null,
      "metadata": {
        "id": "u8astQ4GfUV9",
        "jupyter": {
          "outputs_hidden": false
        }
      },
      "outputs": [],
      "source": [
        "columns = ['input', 'one-year rolling_mean','one-year rolling_median','one-year rolling_max']\n"
      ]
    },
    {
      "cell_type": "markdown",
      "metadata": {
        "id": "FuNmLP7OfUV9"
      },
      "source": [
        "As with `groupby` operations, the `aggregate` and `apply` methods can be used for custom rolling computations."
      ]
    },
    {
      "cell_type": "markdown",
      "metadata": {
        "id": "KTqmZf5jfUV9"
      },
      "source": [
        "## Where to Learn More\n",
        "\n",
        "This chapter has provided only a brief summary of some of the most essential features of time series tools provided by Pandas; for a more complete discussion, you can refer to the [\"Time Series/Date Functionality\" section](http://pandas.pydata.org/pandas-docs/stable/timeseries.html) of the Pandas online documentation.\n",
        "\n",
        "Another excellent resource is the book [*Python for Data Analysis*](https://learning.oreilly.com/library/view/python-for-data/9781098104023/) by Wes McKinney (O'Reilly).\n",
        "It is an invaluable resource on the use of Pandas.\n",
        "In particular, this book emphasizes time series tools in the context of business and finance, and focuses much more on particular details of business calendars, time zones, and related topics.\n",
        "\n",
        "As always, you can also use the IPython help functionality to explore and try out further options available to the functions and methods discussed here. I find this often is the best way to learn a new Python tool."
      ]
    },
    {
      "cell_type": "markdown",
      "metadata": {
        "id": "Jt6N-sHEfUV9"
      },
      "source": [
        "## Example: Visualizing Seattle Bicycle Counts\n",
        "\n",
        "As a more involved example of working with time series data, let's take a look at bicycle counts on Seattle's [Fremont Bridge](http://www.openstreetmap.org/#map=17/47.64813/-122.34965).\n",
        "This data comes from an automated bicycle counter installed in late 2012, which has inductive sensors on the east and west sidewalks of the bridge.\n",
        "The hourly bicycle counts can be downloaded from [http://data.seattle.gov](http://data.seattle.gov); the Fremont Bridge Bicycle Counter dataset is available under the Transportation category.\n",
        "\n",
        "The CSV file can be downloaded as follows:"
      ]
    },
    {
      "cell_type": "code",
      "execution_count": null,
      "metadata": {
        "id": "6vNb85j_fUV-",
        "jupyter": {
          "outputs_hidden": false
        }
      },
      "outputs": [],
      "source": [
        "url = ('https://raw.githubusercontent.com/jakevdp/'\n",
        "        'bicycle-data/main/FremontBridge.csv')\n",
        "!curl -O {url}"
      ]
    },
    {
      "cell_type": "markdown",
      "metadata": {
        "id": "BFpx24fxfUV-"
      },
      "source": [
        "Once this dataset is downloaded, we can use Pandas to read the CSV output into a `DataFrame`.\n",
        "We will specify that we want the `Date` column as an index, and we want these dates to be automatically parsed:"
      ]
    },
    {
      "cell_type": "code",
      "execution_count": null,
      "metadata": {
        "id": "tAHxxyCYfUV-",
        "jupyter": {
          "outputs_hidden": false
        }
      },
      "outputs": [],
      "source": [
        "data = pd.read_csv('FremontBridge.csv', index_col='Date', parse_dates=True, date_format='%m/%d/%Y %I:%M:%S %p')\n",
        "data = data.sort_index()\n",
        "data.head()"
      ]
    },
    {
      "cell_type": "code",
      "execution_count": null,
      "metadata": {
        "id": "Of_zXslL9v3J"
      },
      "outputs": [],
      "source": []
    },
    {
      "cell_type": "markdown",
      "metadata": {
        "id": "pUPge6bufUV-"
      },
      "source": [
        "For convenience, we'll shorten the column names:"
      ]
    },
    {
      "cell_type": "code",
      "execution_count": null,
      "metadata": {
        "id": "5_U7KvOWfUV-",
        "jupyter": {
          "outputs_hidden": false
        }
      },
      "outputs": [],
      "source": []
    },
    {
      "cell_type": "markdown",
      "metadata": {
        "id": "RxNWk1oWfUV-"
      },
      "source": [
        "Now let's take a look at the summary statistics for this data:"
      ]
    },
    {
      "cell_type": "code",
      "execution_count": null,
      "metadata": {
        "id": "Lk3Ldgf_fUV-",
        "jupyter": {
          "outputs_hidden": false
        }
      },
      "outputs": [],
      "source": []
    },
    {
      "cell_type": "markdown",
      "metadata": {
        "id": "R8Zp0FOtfUV-"
      },
      "source": [
        "### Visualizing the Data\n",
        "\n",
        "We can gain some insight into the dataset by visualizing it.\n",
        "Let's start by plotting the raw data (see the following figure):"
      ]
    },
    {
      "cell_type": "code",
      "execution_count": null,
      "metadata": {
        "id": "lEotEoEffUV-",
        "jupyter": {
          "outputs_hidden": false
        }
      },
      "outputs": [],
      "source": []
    },
    {
      "cell_type": "markdown",
      "metadata": {
        "id": "so7Ys-_4fUV-"
      },
      "source": [
        "The ~150,000 hourly samples are far too dense for us to make much sense of.\n",
        "We can gain more insight by resampling the data to a coarser grid.\n",
        "Let's resample by week (see the following figure):"
      ]
    },
    {
      "cell_type": "code",
      "execution_count": null,
      "metadata": {
        "id": "kUnZki9KfUV-",
        "jupyter": {
          "outputs_hidden": false
        }
      },
      "outputs": [],
      "source": []
    },
    {
      "cell_type": "markdown",
      "metadata": {
        "id": "BY8eD__XfUV-"
      },
      "source": [
        "This reveals some trends: as you might expect, people bicycle more in the summer than in the winter, and even within a particular season the bicycle use varies from week to week. Further, the effect of the COVID-19 pandemic on commuting patterns is quite clear, starting in early 2020.\n",
        "\n",
        "Another option that comes in handy for aggregating the data is to use a rolling mean, utilizing the `pd.rolling_mean` function.\n",
        "Here we'll examine the 30-day rolling mean of our data, making sure to center the window (see the following figure):"
      ]
    },
    {
      "cell_type": "code",
      "execution_count": null,
      "metadata": {
        "id": "94v6I6tXfUV-",
        "jupyter": {
          "outputs_hidden": false
        }
      },
      "outputs": [],
      "source": []
    },
    {
      "cell_type": "markdown",
      "metadata": {
        "id": "c2o8fD88fUV-"
      },
      "source": [
        "The jaggedness of the result is due to the hard cutoff of the window.\n",
        "We can get a smoother version of a rolling mean using a window function—for example, a Gaussian window, as shown in the following figure.\n",
        "The following code specifies both the width of the window (here, 50 days) and the width of the Gaussian window (here, 10 days):"
      ]
    },
    {
      "cell_type": "code",
      "execution_count": null,
      "metadata": {
        "id": "IpUWtoTEfUV-",
        "jupyter": {
          "outputs_hidden": false
        }
      },
      "outputs": [],
      "source": []
    },
    {
      "cell_type": "markdown",
      "metadata": {
        "id": "UZmOF3GvfUV_"
      },
      "source": [
        "### Digging into the Data\n",
        "\n",
        "While these smoothed data views are useful to get an idea of the general trend in the data, they hide much of the structure.\n",
        "For example, we might want to look at the average traffic as a function of the time of day.\n",
        "We can do this using the `groupby` functionality discussed before (see the following figure):"
      ]
    },
    {
      "cell_type": "code",
      "execution_count": null,
      "metadata": {
        "id": "Yal8129wfUV_",
        "jupyter": {
          "outputs_hidden": false
        }
      },
      "outputs": [],
      "source": [
        "hourly_ticks = 4 * 60 * 60 * np.arange(6)"
      ]
    },
    {
      "cell_type": "markdown",
      "metadata": {
        "id": "Qa1mV7-BfUV_"
      },
      "source": [
        "The hourly traffic is a strongly bimodal sequence, with peaks around 8:00 a.m. and 5:00 p.m.\n",
        "This is likely evidence of a strong component of commuter traffic crossing the bridge.\n",
        "There is a directional component as well: according to the data, the east sidewalk is used more during the a.m. commute, and the west sidewalk is used more during the p.m. commute.\n",
        "\n",
        "We also might be curious about how things change based on the day of the week. Again, we can do this with a simple `groupby` (see the following figure):"
      ]
    },
    {
      "cell_type": "code",
      "execution_count": null,
      "metadata": {
        "id": "7Vl1OBisfUV_",
        "jupyter": {
          "outputs_hidden": false
        }
      },
      "outputs": [],
      "source": [
        "# days = ['Mon', 'Tues', 'Wed', 'Thurs', 'Fri', 'Sat', 'Sun']"
      ]
    },
    {
      "cell_type": "markdown",
      "metadata": {
        "id": "Tl7fegclfUV_"
      },
      "source": [
        "This shows a strong distinction between weekday and weekend totals, with around twice as many average riders crossing the bridge on Monday through Friday than on Saturday and Sunday.\n",
        "\n",
        "With this in mind, let's do a compound `groupby` and look at the hourly trends on weekdays versus weekends.\n",
        "We'll start by grouping by flags marking the weekend and the time of day:"
      ]
    },
    {
      "cell_type": "code",
      "execution_count": null,
      "metadata": {
        "id": "U69oRViAfUV_",
        "jupyter": {
          "outputs_hidden": false
        }
      },
      "outputs": [],
      "source": [
        "by_time = data\n",
        "by_time['weekday'] = by_time.index.weekday < 5\n",
        "by_time['weekday'] = by_time['weekday'].apply(lambda x: 'Weekday' if x else 'Weekend')\n",
        "by_time = by_time.groupby(['weekday', data.index.time]).mean()\n",
        "by_time"
      ]
    },
    {
      "cell_type": "markdown",
      "metadata": {
        "id": "8z3EI16zfUV_"
      },
      "source": [
        "Now we'll use some of the Matplotlib tools that will be described in our next class to plot two panels side by side, as shown in the following figure:"
      ]
    },
    {
      "cell_type": "code",
      "execution_count": null,
      "metadata": {
        "id": "OjnuBmNbfUV_",
        "jupyter": {
          "outputs_hidden": false
        }
      },
      "outputs": [],
      "source": [
        "fig, ax = plt.subplots(1, 2, figsize=(14, 5))\n",
        "by_time.loc['Weekday'].plot(ax=ax[0], title='Weekdays',\n",
        "                            xticks=hourly_ticks, style=['-', ':', '--'])\n",
        "by_time.loc['Weekend'].plot(ax=ax[1], title='Weekends',\n",
        "                            xticks=hourly_ticks, style=['-', ':', '--']);"
      ]
    },
    {
      "cell_type": "markdown",
      "metadata": {
        "id": "rvdSVGpwfUV_"
      },
      "source": [
        "The result shows a bimodal commuting pattern during the work week, and a unimodal recreational pattern during the weekends.\n",
        "It might be interesting to dig through this data in more detail and examine the effects of weather, temperature, time of year, and other factors on people's commuting patterns."
      ]
    },
    {
      "cell_type": "code",
      "execution_count": null,
      "metadata": {
        "id": "uaUgE-DMaYyo"
      },
      "outputs": [],
      "source": []
    }
  ],
  "metadata": {
    "colab": {
      "provenance": [],
      "include_colab_link": true
    },
    "kernelspec": {
      "display_name": "Python 3",
      "name": "python3"
    },
    "language_info": {
      "name": "python"
    }
  },
  "nbformat": 4,
  "nbformat_minor": 0
}